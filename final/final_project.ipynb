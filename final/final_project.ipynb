{
 "cells": [
  {
   "cell_type": "markdown",
   "id": "cfe633b8",
   "metadata": {},
   "source": [
    "# Emotion dynamics in books related to technology\n",
    "**Research Question: Emotional words used in a list of books from** https://www.goodreads.com/list/show/123917.Scary_Tech_Big_Data_Surveillance_Information_Overload_Tech_Addiction_Propaganda_Dark_Money_"
   ]
  },
  {
   "cell_type": "markdown",
   "id": "72c0dc8d",
   "metadata": {},
   "source": [
    "## Part I: Process Books\n",
    "\n",
    "Importing e-books with .epub format and turn it into a dictionary with words and the occurrence count of the word"
   ]
  },
  {
   "cell_type": "markdown",
   "id": "a54f3520",
   "metadata": {},
   "source": [
    "### List of books - top 8 books from the webpage link (goodreads)\n",
    "**book1:** Algorithms of Oppression How Search Engines Reinforce Racism (Safiya Umoja Noble) <br>\n",
    "**book2:** Data and Goliath The Hidden Battles to Collect Your Data and Control Your World (Bruce Schneier) <br>\n",
    "**book3:** World Without Mind The Existential Threat of Big Tech (Franklin Foer) <br>\n",
    "**book4:** How to Do Nothing Resisting the Attention Economy (Jenny Odell)<br>\n",
    "**book5:** Irresistible The Rise of Addictive Technology and the Business of Keeping Us Hooked (Adam Alter)<br>\n",
    "**book6:** The Age of Surveillance Capitalism The Fight for a Human Future at the New Frontier of Power (Shoshana Zuboff)<br>\n",
    "**book7:** The Attention Merchants The Epic Scramble to Get Inside Our Heads (Tim Wu)<br>\n",
    "**book8:** Weapons of Math Destruction How Big Data Increases Inequality and Threatens Democracy (Cathy O’Neil)<br>\n"
   ]
  },
  {
   "cell_type": "markdown",
   "id": "3031f7d6",
   "metadata": {},
   "source": [
    "I first write a function `get_words(book)` to input/read the e-books (.epub) and return to a dictionary `book_dict` where keys = name assigned in ebook of the chapter; values = text/content of the chapter"
   ]
  },
  {
   "cell_type": "code",
   "execution_count": 2,
   "id": "0a0de7ec",
   "metadata": {},
   "outputs": [],
   "source": [
    "import ebooklib\n",
    "from ebooklib import epub\n",
    "from bs4 import BeautifulSoup\n",
    "\n",
    "def get_words(book):\n",
    "    book = epub.read_epub(book)\n",
    "    items = list(book.get_items_of_type(ebooklib.ITEM_DOCUMENT))\n",
    "    \n",
    "    book_dict = {}\n",
    "    for item in book.get_items():\n",
    "        if item.get_type() == ebooklib.ITEM_DOCUMENT:\n",
    "            soup = BeautifulSoup(item.get_body_content(), 'html.parser')\n",
    "            text = [para.get_text() for para in soup.find_all('p')]\n",
    "            texts = ' '.join(text)\n",
    "            book_dict[item.get_name()] = texts\n",
    "    \n",
    "    return book_dict"
   ]
  },
  {
   "cell_type": "markdown",
   "id": "a3ef54bc",
   "metadata": {},
   "source": [
    "I then write a function `get_word_count(book_dict)` to process all the text in the book and return to a dictionary with all words (except stopwords) and the number of appearance of the word in this book"
   ]
  },
  {
   "cell_type": "code",
   "execution_count": 3,
   "id": "60d0cf60",
   "metadata": {},
   "outputs": [
    {
     "name": "stderr",
     "output_type": "stream",
     "text": [
      "[nltk_data] Downloading package punkt to\n",
      "[nltk_data]     /Users/stefankronborgnielsen/nltk_data...\n",
      "[nltk_data]   Package punkt is already up-to-date!\n",
      "[nltk_data] Downloading package stopwords to\n",
      "[nltk_data]     /Users/stefankronborgnielsen/nltk_data...\n",
      "[nltk_data]   Package stopwords is already up-to-date!\n"
     ]
    }
   ],
   "source": [
    "import nltk\n",
    "nltk.download('punkt')\n",
    "nltk.download('stopwords')\n",
    "stop_words = set(nltk.corpus.stopwords.words(\"english\"))\n",
    "from nltk.tokenize import word_tokenize\n",
    "\n",
    "from collections import Counter\n",
    "\n",
    "def get_word_count(book_dict):\n",
    "    list_words = []\n",
    "    for text in book_dict.values():\n",
    "        for word in word_tokenize(text):\n",
    "            if word.isalpha():\n",
    "                if word.lower() not in stop_words:\n",
    "                    list_words.append(word.lower())\n",
    "    \n",
    "    word_count = Counter(list_words)\n",
    "    dict_word_count = dict(word_count)\n",
    "    \n",
    "    return dict_word_count"
   ]
  },
  {
   "cell_type": "markdown",
   "id": "3aa13d18",
   "metadata": {},
   "source": [
    "Using both `get_words(book)` and `get_word_count(book_dict)` to process **book 1 to 8** including all the words and word count in dictionary `book_word_count`"
   ]
  },
  {
   "cell_type": "code",
   "execution_count": 11,
   "id": "99f01bad",
   "metadata": {},
   "outputs": [],
   "source": [
    "book_list = ['books/book1.epub', 'books/book2.epub', 'books/book3.epub', 'books/book4.epub', 'books/book5.epub', 'books/book6.epub', 'books/book7.epub', 'books/book8.epub']\n",
    "\n",
    "book_word_count = {}\n",
    "for book in book_list:\n",
    "    book_dict = get_words(book)\n",
    "    word_count = get_word_count(book_dict)\n",
    "    book_word_count[book] = word_count\n",
    "    "
   ]
  },
  {
   "cell_type": "markdown",
   "id": "43ebe953",
   "metadata": {},
   "source": [
    "## Part II: Emotion Lexicon\n",
    "Source: http://saifmohammad.com/WebPages/NRC-Emotion-Lexicon.htm <br>\n",
    "The NRC Emotion Lexicon is a list of English words and their associations with eight basic emotions (anger, fear, anticipation, trust, surprise, sadness, joy, and disgust) and two sentiments (negative and positive). The annotations were manually done by crowdsourcing. \n",
    "\n",
    "I use the eight basic emotions (anger, fear, anticipation, trust, surprise, sadness, joy, and disgust) for this analysis.\n",
    "\n",
    "Reference:\n",
    "Mohammad, S. M., & Turney, P. D. (2013). Crowdsourcing a word–emotion association lexicon. Computational intelligence, 29(3), 436-465."
   ]
  },
  {
   "cell_type": "markdown",
   "id": "60f07e30",
   "metadata": {},
   "source": [
    "I write a funtion `get_lexicon(emtion)` and loop through all eight emotions to get the list of words in the .txt file "
   ]
  },
  {
   "cell_type": "code",
   "execution_count": 12,
   "id": "2586fc4b",
   "metadata": {},
   "outputs": [],
   "source": [
    "def get_lexicon(term):\n",
    "    word_list = []    \n",
    "    with open(f'NRC-Emotion-Lexicon/OneFilePerEmotion/{term}-NRC-Emotion-Lexicon.txt', 'r') as file:\n",
    "        for line in file:\n",
    "            word = line.split()[0]\n",
    "            N = int(line.split()[1])\n",
    "            if N == 1:\n",
    "                word_list.append(word)    \n",
    "    return word_list"
   ]
  },
  {
   "cell_type": "code",
   "execution_count": 13,
   "id": "79ab7413",
   "metadata": {},
   "outputs": [],
   "source": [
    "emotion_lexicon = {}\n",
    "emotions = ['anger', 'anticipation', 'disgust', 'fear', 'joy', 'sadness', 'surprise', 'trust']\n",
    "\n",
    "for emotion in emotions:\n",
    "    emotion_lexicon[emotion] = set(get_lexicon(emotion))"
   ]
  },
  {
   "cell_type": "markdown",
   "id": "138263ed",
   "metadata": {},
   "source": [
    "## Part III: Combining & Presenting the results\n",
    "\n",
    "In this part, I combine the first part (words & count of the word from books) and the second part (groups of emotion-related words). The dictionary `emotion_word_count` contains the eight emotion as keys and the values are dictionaries with all the words in lexicon of that emotion and the count of the words. \n",
    "\n",
    "I then write a function called `get_top_words(emotion, N)` which shows the the top N words with most count in that emotion lexicon."
   ]
  },
  {
   "cell_type": "code",
   "execution_count": 16,
   "id": "79cd3a21",
   "metadata": {},
   "outputs": [],
   "source": [
    "emotion_word_count = {}\n",
    "for emotion in emotions:\n",
    "    emotion_word_count[emotion] = {}\n",
    "\n",
    "for emotion, lexicon in emotion_lexicon.items():\n",
    "    for word in lexicon:\n",
    "        emotion_word_count[emotion][word] = 0\n",
    "    \n",
    "for word_count in book_word_count.values():\n",
    "    for word, count in word_count.items():\n",
    "        for emotion, lexicon in emotion_lexicon.items():\n",
    "            if word in lexicon:\n",
    "                emotion_word_count[emotion][word] += count"
   ]
  },
  {
   "cell_type": "code",
   "execution_count": 17,
   "id": "96060271",
   "metadata": {},
   "outputs": [],
   "source": [
    "import heapq\n",
    "\n",
    "def get_top_words(emotion, N):\n",
    "    top_words = heapq.nlargest(N, emotion_word_count[emotion].items(), key=lambda x: x[1])\n",
    "    return top_words"
   ]
  },
  {
   "cell_type": "markdown",
   "id": "970d0876",
   "metadata": {},
   "source": [
    "### Presenting results: Bar chart\n",
    "I here present eight bar charts showing the top 20 words with the most occurrences of the eight basic emotions. "
   ]
  },
  {
   "cell_type": "code",
   "execution_count": 33,
   "id": "5f9655b0",
   "metadata": {},
   "outputs": [],
   "source": [
    "import matplotlib.pyplot as plt\n",
    "import seaborn as sns\n",
    "\n",
    "sns.set(style=\"darkgrid\")\n",
    "\n",
    "for emotion in emotions:\n",
    "    top_words = get_top_words(emotion, 20)\n",
    "    \n",
    "    words = [item[0] for item in top_words]\n",
    "    counts = [item[1] for item in top_words]\n",
    "\n",
    "    fig, ax = plt.subplots()\n",
    "    ax.barh(words, counts)\n",
    "\n",
    "    ax.set_xlabel('count')\n",
    "    ax.set_title(f'Top words: {emotion}')\n",
    "    \n",
    "    plt.subplots_adjust(left=0.2, right=0.95, bottom=0.15, top=0.9)\n",
    "    \n",
    "    \n",
    "    plt.savefig(f'plot/top_words_{emotion}.png')\n",
    "    plt.close()"
   ]
  },
  {
   "cell_type": "markdown",
   "id": "5540eabc",
   "metadata": {},
   "source": [
    "### Reflection on the bar charts\n",
    "Questioning if the words shown in the plot actually have such emotional connotations"
   ]
  },
  {
   "cell_type": "markdown",
   "id": "6db567a8",
   "metadata": {},
   "source": [
    "### Presenting results: Pie chart\n",
    "A pie chart showing all eight basic emotions and the sum of the counts of all words"
   ]
  },
  {
   "cell_type": "code",
   "execution_count": 38,
   "id": "41718ddf",
   "metadata": {},
   "outputs": [
    {
     "data": {
      "text/plain": [
       "{'anger': 10536,\n",
       " 'anticipation': 19721,\n",
       " 'disgust': 6340,\n",
       " 'fear': 16747,\n",
       " 'joy': 12882,\n",
       " 'sadness': 9802,\n",
       " 'surprise': 7569,\n",
       " 'trust': 29187}"
      ]
     },
     "execution_count": 38,
     "metadata": {},
     "output_type": "execute_result"
    }
   ],
   "source": [
    "emotion_total_count = {}\n",
    "for emotion, lexicon_count in emotion_word_count.items():\n",
    "    emotion_total_count[emotion] = sum(lexicon_count.values())"
   ]
  },
  {
   "cell_type": "code",
   "execution_count": 46,
   "id": "93960ac2",
   "metadata": {},
   "outputs": [],
   "source": [
    "import matplotlib.pyplot as plt\n",
    "\n",
    "labels = []\n",
    "sizes = []\n",
    "for emotion, count in emotion_total_count.items():\n",
    "    labels.append(emotion)\n",
    "    sizes.append(count)\n",
    "\n",
    "colors = ['#d62728', '#ff7f0e', '#2ca02c', '#9467bd', '#FCE205','#1f77b4', '#e377c2', '#7f7f7f']\n",
    "explode = (0, 0, 0, 0, 0, 0, 0, 0) \n",
    "\n",
    "\n",
    "plt.pie(sizes, labels=labels, colors=colors, explode=explode, autopct='%1.1f%%',\n",
    "        startangle=90)\n",
    "\n",
    "\n",
    "plt.title('Emotion distribution in books')\n",
    "\n",
    "plt.axis('equal')\n",
    "# plt.show()\n",
    "\n",
    "plt.savefig('plot/pie_chart_emotions.png')\n",
    "plt.close()\n"
   ]
  },
  {
   "cell_type": "markdown",
   "id": "560e3119",
   "metadata": {},
   "source": [
    "### Reflection on the pie chart\n",
    "Questioning whether we can draw any conclusion from this plot"
   ]
  },
  {
   "cell_type": "markdown",
   "id": "7a434fbf",
   "metadata": {},
   "source": [
    "## Conclusion\n"
   ]
  },
  {
   "cell_type": "code",
   "execution_count": null,
   "id": "faf11715",
   "metadata": {},
   "outputs": [],
   "source": []
  },
  {
   "cell_type": "code",
   "execution_count": null,
   "id": "df9131de",
   "metadata": {},
   "outputs": [],
   "source": []
  }
 ],
 "metadata": {
  "kernelspec": {
   "display_name": "Python 3 (ipykernel)",
   "language": "python",
   "name": "python3"
  },
  "language_info": {
   "codemirror_mode": {
    "name": "ipython",
    "version": 3
   },
   "file_extension": ".py",
   "mimetype": "text/x-python",
   "name": "python",
   "nbconvert_exporter": "python",
   "pygments_lexer": "ipython3",
   "version": "3.9.13"
  }
 },
 "nbformat": 4,
 "nbformat_minor": 5
}
