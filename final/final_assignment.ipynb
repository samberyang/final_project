{
 "cells": [
  {
   "cell_type": "markdown",
   "id": "cfe633b8",
   "metadata": {},
   "source": []
  },
  {
   "cell_type": "code",
   "execution_count": null,
   "id": "c84a0093",
   "metadata": {},
   "outputs": [],
   "source": [
    "import ebooklib\n",
    "from ebooklib import epub\n",
    "from bs4 import BeautifulSoup"
   ]
  },
  {
   "cell_type": "code",
   "execution_count": null,
   "id": "52f07010",
   "metadata": {},
   "outputs": [],
   "source": [
    "book = epub.read_epub('books/book1.epub')\n",
    "\n",
    "for item in book.get_items():\n",
    "    if item.get_type() == ebooklib.ITEM_DOCUMENT:\n",
    "        print('==================================')\n",
    "        print('NAME : ', item.get_name())\n",
    "        print('----------------------------------')\n",
    "        print(item.get_content())\n",
    "        print('==================================')"
   ]
  },
  {
   "cell_type": "markdown",
   "id": "3fce7779",
   "metadata": {},
   "source": [
    "it depends on the what is in the name? \n",
    "\n",
    "the result of `item.get_content()` turns to a html file. \n",
    "so my first step to do is to extract the content in html to a list of text. "
   ]
  },
  {
   "cell_type": "code",
   "execution_count": null,
   "id": "51a20550",
   "metadata": {},
   "outputs": [],
   "source": [
    "for item in book.get_items():\n",
    "    if item.get_type() == ebooklib.ITEM_DOCUMENT:\n",
    "        print('==================================')\n",
    "        print('NAME : ', item.get_name())\n",
    "        print('----------------------------------')\n",
    "        soup = BeautifulSoup(item.get_body_content(), 'html.parser')\n",
    "        text = [para.get_text() for para in soup.find_all('p')]\n",
    "        texts = ' '.join(text)\n",
    "        print(text)\n",
    "        print('==================================')"
   ]
  },
  {
   "cell_type": "markdown",
   "id": "9f840a0b",
   "metadata": {},
   "source": [
    "text = list of text in the item, including introduction, chapter 1... "
   ]
  }
 ],
 "metadata": {
  "kernelspec": {
   "display_name": "Python 3 (ipykernel)",
   "language": "python",
   "name": "python3"
  },
  "language_info": {
   "codemirror_mode": {
    "name": "ipython",
    "version": 3
   },
   "file_extension": ".py",
   "mimetype": "text/x-python",
   "name": "python",
   "nbconvert_exporter": "python",
   "pygments_lexer": "ipython3",
   "version": "3.9.13"
  }
 },
 "nbformat": 4,
 "nbformat_minor": 5
}
